{
 "cells": [
  {
   "cell_type": "code",
   "execution_count": 2,
   "metadata": {},
   "outputs": [],
   "source": [
    "import pandas as pd\n",
    "\n"
   ]
  },
  {
   "cell_type": "code",
   "execution_count": 11,
   "metadata": {},
   "outputs": [
    {
     "data": {
      "text/html": [
       "<div>\n",
       "<style scoped>\n",
       "    .dataframe tbody tr th:only-of-type {\n",
       "        vertical-align: middle;\n",
       "    }\n",
       "\n",
       "    .dataframe tbody tr th {\n",
       "        vertical-align: top;\n",
       "    }\n",
       "\n",
       "    .dataframe thead th {\n",
       "        text-align: right;\n",
       "    }\n",
       "</style>\n",
       "<table border=\"1\" class=\"dataframe\">\n",
       "  <thead>\n",
       "    <tr style=\"text-align: right;\">\n",
       "      <th></th>\n",
       "      <th>title</th>\n",
       "      <th>body</th>\n",
       "      <th>summary</th>\n",
       "      <th>labels</th>\n",
       "      <th>tags</th>\n",
       "      <th>url</th>\n",
       "    </tr>\n",
       "  </thead>\n",
       "  <tbody>\n",
       "    <tr>\n",
       "      <th>0</th>\n",
       "      <td>นักวิจัยออสเตรเลียเผยสาเหตุฉลามโจมตีมนุษย์</td>\n",
       "      <td>นายนาธาน ฮาร์ท หัวหน้าทีมวิจัยจากมหาวิทยาลัยเว...</td>\n",
       "      <td>ทีมนักวิจัยออสเตรเลียศึกษาว่าเหตุใดฉลามถึงจู่...</td>\n",
       "      <td>ต่างประเทศ</td>\n",
       "      <td>ฉลาม,นักวิจัย,มนุษย์,ออสเตรเลีย,แมวน้ำ,โจมตี</td>\n",
       "      <td>https://news.thaipbs.or.th/content/1</td>\n",
       "    </tr>\n",
       "    <tr>\n",
       "      <th>1</th>\n",
       "      <td>\"จีทีเอช\" สั่งพักงาน-งดใช้โซเชียลมีเดียชั่วครา...</td>\n",
       "      <td>เมื่อเวลาประมาณ 16.30 น.วันนี้ (8 เม.ย.2558) เ...</td>\n",
       "      <td>จีทีเอชและนาดาวบางกอก บริษัทต้นสังกัดนักแสดงซ...</td>\n",
       "      <td>ศิลปะ-บันเทิง</td>\n",
       "      <td>GTH,จีทีเอช,นักแสดงฮอร์โมนเต้นในรถไฟฟ้าญี่ปุ่น...</td>\n",
       "      <td>https://news.thaipbs.or.th/content/5</td>\n",
       "    </tr>\n",
       "    <tr>\n",
       "      <th>2</th>\n",
       "      <td>\"ธชตวัน\" ประกาศลาออกจากกุนซือกัลฟ์ สระบุรี จาก...</td>\n",
       "      <td>การประกาศลาออกจากตำแหน่งกุนซือ กัลฟ์ สระบุรี เ...</td>\n",
       "      <td>ธชตวัน ศรีปาน ประกาศลาออกจากตำแหน่งหัวหน้าผู้...</td>\n",
       "      <td>กีฬา</td>\n",
       "      <td>กัลฟ์ สระบุรี,กุนซือ,ธชตวัน,ธชตวัน ศรีปาน,ฟุตบ...</td>\n",
       "      <td>https://news.thaipbs.or.th/content/3</td>\n",
       "    </tr>\n",
       "    <tr>\n",
       "      <th>3</th>\n",
       "      <td>ตำรวจตุรกีจับผู้ต้องสงสัยยิงรถนักเตะสโมสรเฟเนบ...</td>\n",
       "      <td>เจ้าหน้าที่ตำรวจในประเทศตุรกียืนยันว่าได้จับกุ...</td>\n",
       "      <td>หลังเกิดเหตุลอบยิงรถนักเตะสโมสรเฟเนบาห์เชขณะเ...</td>\n",
       "      <td>กีฬา</td>\n",
       "      <td>ข่าว16.00,ข่าวต่างประเทศ,ยิงรถสโมสร,ลีกตุรกี,เ...</td>\n",
       "      <td>https://news.thaipbs.or.th/content/4</td>\n",
       "    </tr>\n",
       "    <tr>\n",
       "      <th>4</th>\n",
       "      <td>สหรัฐฯประกาศสนับสนุนญี่ปุ่นและชาติพันธมิตรหากถ...</td>\n",
       "      <td>นายแอชตัน คาร์เตอร์ รัฐมนตรีว่าการกระทรวงกลาโห...</td>\n",
       "      <td>สหรัฐอเมริกาประกาศจุดยืนสนับสนุนญี่ปุ่นและชาต...</td>\n",
       "      <td>ต่างประเทศ</td>\n",
       "      <td>Camp Schwab,ชินโสะ อาเบะ,ญี่ปุ่น,บารัค โอบามา,...</td>\n",
       "      <td>https://news.thaipbs.or.th/content/2</td>\n",
       "    </tr>\n",
       "  </tbody>\n",
       "</table>\n",
       "</div>"
      ],
      "text/plain": [
       "                                               title  \\\n",
       "0         นักวิจัยออสเตรเลียเผยสาเหตุฉลามโจมตีมนุษย์   \n",
       "1  \"จีทีเอช\" สั่งพักงาน-งดใช้โซเชียลมีเดียชั่วครา...   \n",
       "2  \"ธชตวัน\" ประกาศลาออกจากกุนซือกัลฟ์ สระบุรี จาก...   \n",
       "3  ตำรวจตุรกีจับผู้ต้องสงสัยยิงรถนักเตะสโมสรเฟเนบ...   \n",
       "4  สหรัฐฯประกาศสนับสนุนญี่ปุ่นและชาติพันธมิตรหากถ...   \n",
       "\n",
       "                                                body  \\\n",
       "0  นายนาธาน ฮาร์ท หัวหน้าทีมวิจัยจากมหาวิทยาลัยเว...   \n",
       "1  เมื่อเวลาประมาณ 16.30 น.วันนี้ (8 เม.ย.2558) เ...   \n",
       "2  การประกาศลาออกจากตำแหน่งกุนซือ กัลฟ์ สระบุรี เ...   \n",
       "3  เจ้าหน้าที่ตำรวจในประเทศตุรกียืนยันว่าได้จับกุ...   \n",
       "4  นายแอชตัน คาร์เตอร์ รัฐมนตรีว่าการกระทรวงกลาโห...   \n",
       "\n",
       "                                             summary         labels  \\\n",
       "0   ทีมนักวิจัยออสเตรเลียศึกษาว่าเหตุใดฉลามถึงจู่...     ต่างประเทศ   \n",
       "1   จีทีเอชและนาดาวบางกอก บริษัทต้นสังกัดนักแสดงซ...  ศิลปะ-บันเทิง   \n",
       "2   ธชตวัน ศรีปาน ประกาศลาออกจากตำแหน่งหัวหน้าผู้...           กีฬา   \n",
       "3   หลังเกิดเหตุลอบยิงรถนักเตะสโมสรเฟเนบาห์เชขณะเ...           กีฬา   \n",
       "4   สหรัฐอเมริกาประกาศจุดยืนสนับสนุนญี่ปุ่นและชาต...     ต่างประเทศ   \n",
       "\n",
       "                                                tags  \\\n",
       "0       ฉลาม,นักวิจัย,มนุษย์,ออสเตรเลีย,แมวน้ำ,โจมตี   \n",
       "1  GTH,จีทีเอช,นักแสดงฮอร์โมนเต้นในรถไฟฟ้าญี่ปุ่น...   \n",
       "2  กัลฟ์ สระบุรี,กุนซือ,ธชตวัน,ธชตวัน ศรีปาน,ฟุตบ...   \n",
       "3  ข่าว16.00,ข่าวต่างประเทศ,ยิงรถสโมสร,ลีกตุรกี,เ...   \n",
       "4  Camp Schwab,ชินโสะ อาเบะ,ญี่ปุ่น,บารัค โอบามา,...   \n",
       "\n",
       "                                    url  \n",
       "0  https://news.thaipbs.or.th/content/1  \n",
       "1  https://news.thaipbs.or.th/content/5  \n",
       "2  https://news.thaipbs.or.th/content/3  \n",
       "3  https://news.thaipbs.or.th/content/4  \n",
       "4  https://news.thaipbs.or.th/content/2  "
      ]
     },
     "execution_count": 11,
     "metadata": {},
     "output_type": "execute_result"
    }
   ],
   "source": [
    "fpath = './data/raw/thaipbs/thaipbs-111_final.csv'\n",
    "df = pd.read_csv(fpath)\n",
    "df.head()"
   ]
  },
  {
   "cell_type": "code",
   "execution_count": 12,
   "metadata": {},
   "outputs": [
    {
     "name": "stdout",
     "output_type": "stream",
     "text": [
      "title,body,summary,labels,tags,url\n",
      "\n",
      "นักวิจัยออสเตรเลียเผยสาเหตุฉลามโจมตีมนุษย์,นายนาธาน ฮาร์ท หัวหน้าทีมวิจัยจากมหาวิทยาลัยเวสเทิร์น ออสเตรเลีย เปิดเผยว่า ทีมวิจัยได้สังเกตพฤติกรรมของแมวน้ำในศูนย์ทดลองของสวนสัตว์ทารองก้าในนครซิดนีย์ เพื่อศึกษาพฤติกรรมของฉลามว่าเพราะเหตุใดจึงโจมตีมนุษย์แทนที่จะเป็นแมวน้ำหรือสิงโตทะเล ซึ่งเป็นเหยื่อตามธรรมชาติของฉลามทีมนักวิจัยได้ทำการทดลองโดยบันทึกภาพและเสียงจากการว่ายน้ำของแมวน้ำ เพื่อจำลองถึงสิ่งที่ฉลามมองเห็นและได้ยินจากใต้น้ำ โดยการทดลองดังกล่าวแสดงให้เห็นว่า ภาพของมนุษย์บนกระดานโต้คลื่นที่ฉลามมองเห็นนั้นคล้ายกับภาพของแมวน้ำจึงทำให้ฉลามเข้าใจผิดและเข้าจู่โจมมนุษย์ทีมนักวิจัยจะนำผลการทดลองที่ได้ไปพัฒนาอุปกรณ์เพื่อป้องกันการจู่โจมของฉลาม เช่น การติดตั้งแสงไฟให้กับกระดานโต้คลื่น โดยทีมนักวิจัยจะนำวิธีการนี้ไปทดลองใช้กับฉลามขาวในแอฟริกาใต้ต่อไปในปลายปีนี้ , ทีมนักวิจัยออสเตรเลียศึกษาว่าเหตุใดฉลามถึงจู่โจมมนุษย์ โดยการสังเกตพฤติกรรมของแมวน้ำ ซึ่งเป็นเหยื่อตามธรรมชาติของฉลาม,ต่างประเทศ,\"ฉลาม,นักวิจัย,มนุษย์,ออสเตรเลีย,แมวน้ำ,โจมตี\",https://news.thaipbs.or.th/content/1\n",
      "\n",
      "\"\"\"จีทีเอช\"\" สั่งพักงาน-งดใช้โซเชียลมีเดียชั่วคราว นักแสดงซีรีส์ฮอร์โมน เต้นในรถไฟใต้ดินญี่ปุ่น \",เมื่อเวลาประมาณ 16.30 น.วันนี้ (8 เม.ย.2558) เพจเฟซบุ๊ก GTH ซึ่งเป็นแฟนเพจของบริษัท จีเอ็มเอ็ม ไท หับ จำกัด หรือจีทีเอช ต้นสังกัดของนักแสดงวัยรุ่นจากซีรีส์ฮอร์โมน ซึ่งมีกรณีเผยแพร่คลิปเต้นในรถไฟฟ้าใต้ดินของประเทศญี่ปุ่นเมื่อปลายสัปดาห์ที่ผ่านมา ซึ่งทางจีทีเอชได้แถลงแสดงความเสียใจไปแล้วนั้น วันนี้จีทีเอชและบริษัท นาดาว บางกอก จำกัด ได้มีบทลงโทษนักแสดง โดยได้แถลงว่าการกระทำที่เกิดขึ้นถือเป็นการไม่เหมาะสมเพราะขัดกับข้อควรปฏิบัติในการใช้รถไฟใต้ดินในประเทศญี่ปุ่นที่อาจนำมาซึ่งความเสื่อมเสียถึงประเทศไทยได้แถลงการณ์ระบุว่าจากการกระทำที่คึกคะนองขาดการยั้งคิดของนักแสดง ซึ่งอาจจะสร้างความเสียหายแก่ภาพพจน์ของประเทศไทย แม้นักแสดงทั้ง 5 คน จะสำนึกผิด และออกมากล่าวขอโทษกับสิ่งที่เกิดขึ้นไปแล้ว แต่ผู้ปกครองของนักแสดงทุกคนได้เข้ามาหารือร่วมกับบริษัทฯ ถึงบทลงโทษที่ควรจะมีเพื่อจะได้ไม่เป็นแบบอย่างที่ไม่ดีแก่เยาวชนทั่วไปและเพื่อให้ทุกคนทบทวนและปรับปรุงสิ่งที่ได้กระทำลงไป โดยทางบริษัทและผู้ปกครองได้มีข้อสรุปร่วมกัน ซึ่งมีบทลงโทษแตกต่างกัน ได้แก่ ตั้ว - เสฎฐวุฒิ อนุสิทธิ์ เจมส์ - ธีรดนย์ ศุภพันธุ์ภิณโญ เกศ-ผกามาศ กาญจนบุรางกูร พักการรับงานจากบริษัทฯ และ งดใช้สื่อ social media ทุกชนิดเป็นเวลา 3 เดือนขณะที่ ท๊อป- ณภัทร โชคจินดาชัย และ ปันปัน-สุทัตตา อุดมศิลป์ ในฐานะที่เป็นนักแสดงรุ่นพี่ที่ทำงานในวงการบันเทิงมาก่อน จึงควรเรียนรู้ในการแสดงออกอย่างเหมาะสมในที่สาธารณะ และไม่แนะนำหรือตักเตือนรุ่นน้องให้เหมาะสม จึงถูกพักการรับงานจากบริษัทฯ และ งดใช้สื่อ social media ทุกชนิดเป็นเวลา 6 เดือน ทั้งนี้ทางบริษัทได้ประสานไปยังสถานทูตไทย ณ. กรุงโตเกียว ประเทศญี่ปุ่นเพื่อทำจดหมายขอโทษถึงคนญี่ปุ่น คนไทยในประเทศญี่ปุ่น และ คนไทยทั้งประเทศ รวมทั้งถ่ายทำคลิปขอโทษของนักแสดงกลุ่มดังกล่าวส่งถึงทางสถานทูตฯ เป็นที่เรียบร้อยแล้วเพื่อแสดงความเสียใจและขออภัยกับเหตุการณ์ที่เกิดขึ้น , จีทีเอชและนาดาวบางกอก บริษัทต้นสังกัดนักแสดงซีรีส์ฮอร์โมนวัยว้าวุ่น มีบทลงโทษนักแสดงวัยรุ่น 5 คน กรณีเผยแพร่คลิปพฤติกรรมอันไม่สุภาพบนรถไฟสาธารณะที่ประเทศญี่ปุ่น โดยสั่งพักรับงานรับงานจากบริษัทฯ และ งดใช้สื่อ social media ทุกชนิดเป็นเวลา 3-6 เดือน โดยทางตันสังกัดได้ประสานไปยังสถานทูตไทยในกรุงโตเกียว ประเทศญี่ปุ่นเพื่อทำจดหมายขอโทษถึงคนญี่ปุ่นถึงกรณีดังกล่าว,ศิลปะ-บันเทิง,\"GTH,จีทีเอช,นักแสดงฮอร์โมนเต้นในรถไฟฟ้าญี่ปุ่น,นาดาวบางกอก,ฮอร์โมน\",https://news.thaipbs.or.th/content/5\n",
      "\n"
     ]
    }
   ],
   "source": [
    "with open(fpath, 'r') as f:\n",
    "    for i, line in enumerate(f):\n",
    "        if i > 2: break\n",
    "        print(line)"
   ]
  },
  {
   "cell_type": "code",
   "execution_count": 10,
   "metadata": {},
   "outputs": [
    {
     "name": "stdout",
     "output_type": "stream",
     "text": [
      "\"ร้านอาหารใหญ่มากกกกกกก \n",
      "\n",
      "เลี้ยวเข้ามาเจอห้องน้ำก่อนเลย เออแปลกดี \n",
      "\n",
      "ห้องทานหลักๆอยู่ชั้น 2 มีกาแฟ น้ำผึ้ง ซึ่งก็แค่เอาน้ำผึ้งมาราด แพงเวอร์ อย่าสั่งเลย \n",
      "\n"
     ]
    },
    {
     "data": {
      "text/html": [
       "<div>\n",
       "<style scoped>\n",
       "    .dataframe tbody tr th:only-of-type {\n",
       "        vertical-align: middle;\n",
       "    }\n",
       "\n",
       "    .dataframe tbody tr th {\n",
       "        vertical-align: top;\n",
       "    }\n",
       "\n",
       "    .dataframe thead th {\n",
       "        text-align: right;\n",
       "    }\n",
       "</style>\n",
       "<table border=\"1\" class=\"dataframe\">\n",
       "  <thead>\n",
       "    <tr style=\"text-align: right;\">\n",
       "      <th></th>\n",
       "      <th>review</th>\n",
       "      <th>star</th>\n",
       "    </tr>\n",
       "  </thead>\n",
       "  <tbody>\n",
       "    <tr>\n",
       "      <th>0</th>\n",
       "      <td>ร้านอาหารใหญ่มากกกกกกก \\nเลี้ยวเข้ามาเจอห้องน้...</td>\n",
       "      <td>3</td>\n",
       "    </tr>\n",
       "    <tr>\n",
       "      <th>1</th>\n",
       "      <td>อาหารที่นี่เป็นอาหารจีนแคะที่หากินยากในบ้านเรา...</td>\n",
       "      <td>4</td>\n",
       "    </tr>\n",
       "    <tr>\n",
       "      <th>2</th>\n",
       "      <td>ปอเปี๊ยะสด ทุกวันนี้รู้สึกว่าหากินยาก (ร้านที่...</td>\n",
       "      <td>3</td>\n",
       "    </tr>\n",
       "    <tr>\n",
       "      <th>3</th>\n",
       "      <td>รัานคัพเค้กในเมืองไทยมีไม่มาก หลายๆคนอาจจะสงสั...</td>\n",
       "      <td>5</td>\n",
       "    </tr>\n",
       "    <tr>\n",
       "      <th>4</th>\n",
       "      <td>อร่อย!!! เดินผ่านDigital gatewayทุกวัน ไม่ยักร...</td>\n",
       "      <td>5</td>\n",
       "    </tr>\n",
       "  </tbody>\n",
       "</table>\n",
       "</div>"
      ],
      "text/plain": [
       "                                              review  star\n",
       "0  ร้านอาหารใหญ่มากกกกกกก \\nเลี้ยวเข้ามาเจอห้องน้...     3\n",
       "1  อาหารที่นี่เป็นอาหารจีนแคะที่หากินยากในบ้านเรา...     4\n",
       "2  ปอเปี๊ยะสด ทุกวันนี้รู้สึกว่าหากินยาก (ร้านที่...     3\n",
       "3  รัานคัพเค้กในเมืองไทยมีไม่มาก หลายๆคนอาจจะสงสั...     5\n",
       "4  อร่อย!!! เดินผ่านDigital gatewayทุกวัน ไม่ยักร...     5"
      ]
     },
     "execution_count": 10,
     "metadata": {},
     "output_type": "execute_result"
    }
   ],
   "source": [
    "fpath = './data/raw/wongnai/w_review_train.csv'\n",
    "df = pd.read_csv(fpath, sep=';', header=None, names=['review', 'star'])\n",
    "\n",
    "with open(fpath, 'r') as f:\n",
    "    for i, line in enumerate(f):\n",
    "        if i > 2: break\n",
    "        print(line)\n",
    "    \n",
    "df.head()"
   ]
  },
  {
   "cell_type": "code",
   "execution_count": 9,
   "metadata": {},
   "outputs": [
    {
     "name": "stdout",
     "output_type": "stream",
     "text": [
      "review;star\n",
      "\n",
      "\"ร้านอาหารใหญ่มากกกกกกก \n",
      "\n",
      "เลี้ยวเข้ามาเจอห้องน้ำก่อนเลย เออแปลกดี \n",
      "\n"
     ]
    },
    {
     "ename": "ParserError",
     "evalue": "Error tokenizing data. C error: Expected 1 fields in line 107, saw 2\n",
     "output_type": "error",
     "traceback": [
      "\u001b[0;31m---------------------------------------------------------------------------\u001b[0m",
      "\u001b[0;31mParserError\u001b[0m                               Traceback (most recent call last)",
      "Cell \u001b[0;32mIn[9], line 9\u001b[0m\n\u001b[1;32m      6\u001b[0m         \u001b[38;5;28;01mif\u001b[39;00m i \u001b[38;5;241m>\u001b[39m \u001b[38;5;241m2\u001b[39m: \u001b[38;5;28;01mbreak\u001b[39;00m\n\u001b[1;32m      7\u001b[0m         \u001b[38;5;28mprint\u001b[39m(line)\n\u001b[0;32m----> 9\u001b[0m df \u001b[38;5;241m=\u001b[39m \u001b[43mpd\u001b[49m\u001b[38;5;241;43m.\u001b[39;49m\u001b[43mread_csv\u001b[49m\u001b[43m(\u001b[49m\u001b[43mfpath\u001b[49m\u001b[43m)\u001b[49m\n\u001b[1;32m     10\u001b[0m df\u001b[38;5;241m.\u001b[39mhead()\n",
      "File \u001b[0;32m~/miniconda3/envs/myenv/lib/python3.10/site-packages/pandas/io/parsers/readers.py:948\u001b[0m, in \u001b[0;36mread_csv\u001b[0;34m(filepath_or_buffer, sep, delimiter, header, names, index_col, usecols, dtype, engine, converters, true_values, false_values, skipinitialspace, skiprows, skipfooter, nrows, na_values, keep_default_na, na_filter, verbose, skip_blank_lines, parse_dates, infer_datetime_format, keep_date_col, date_parser, date_format, dayfirst, cache_dates, iterator, chunksize, compression, thousands, decimal, lineterminator, quotechar, quoting, doublequote, escapechar, comment, encoding, encoding_errors, dialect, on_bad_lines, delim_whitespace, low_memory, memory_map, float_precision, storage_options, dtype_backend)\u001b[0m\n\u001b[1;32m    935\u001b[0m kwds_defaults \u001b[38;5;241m=\u001b[39m _refine_defaults_read(\n\u001b[1;32m    936\u001b[0m     dialect,\n\u001b[1;32m    937\u001b[0m     delimiter,\n\u001b[0;32m   (...)\u001b[0m\n\u001b[1;32m    944\u001b[0m     dtype_backend\u001b[38;5;241m=\u001b[39mdtype_backend,\n\u001b[1;32m    945\u001b[0m )\n\u001b[1;32m    946\u001b[0m kwds\u001b[38;5;241m.\u001b[39mupdate(kwds_defaults)\n\u001b[0;32m--> 948\u001b[0m \u001b[38;5;28;01mreturn\u001b[39;00m \u001b[43m_read\u001b[49m\u001b[43m(\u001b[49m\u001b[43mfilepath_or_buffer\u001b[49m\u001b[43m,\u001b[49m\u001b[43m \u001b[49m\u001b[43mkwds\u001b[49m\u001b[43m)\u001b[49m\n",
      "File \u001b[0;32m~/miniconda3/envs/myenv/lib/python3.10/site-packages/pandas/io/parsers/readers.py:617\u001b[0m, in \u001b[0;36m_read\u001b[0;34m(filepath_or_buffer, kwds)\u001b[0m\n\u001b[1;32m    614\u001b[0m     \u001b[38;5;28;01mreturn\u001b[39;00m parser\n\u001b[1;32m    616\u001b[0m \u001b[38;5;28;01mwith\u001b[39;00m parser:\n\u001b[0;32m--> 617\u001b[0m     \u001b[38;5;28;01mreturn\u001b[39;00m \u001b[43mparser\u001b[49m\u001b[38;5;241;43m.\u001b[39;49m\u001b[43mread\u001b[49m\u001b[43m(\u001b[49m\u001b[43mnrows\u001b[49m\u001b[43m)\u001b[49m\n",
      "File \u001b[0;32m~/miniconda3/envs/myenv/lib/python3.10/site-packages/pandas/io/parsers/readers.py:1748\u001b[0m, in \u001b[0;36mTextFileReader.read\u001b[0;34m(self, nrows)\u001b[0m\n\u001b[1;32m   1741\u001b[0m nrows \u001b[38;5;241m=\u001b[39m validate_integer(\u001b[38;5;124m\"\u001b[39m\u001b[38;5;124mnrows\u001b[39m\u001b[38;5;124m\"\u001b[39m, nrows)\n\u001b[1;32m   1742\u001b[0m \u001b[38;5;28;01mtry\u001b[39;00m:\n\u001b[1;32m   1743\u001b[0m     \u001b[38;5;66;03m# error: \"ParserBase\" has no attribute \"read\"\u001b[39;00m\n\u001b[1;32m   1744\u001b[0m     (\n\u001b[1;32m   1745\u001b[0m         index,\n\u001b[1;32m   1746\u001b[0m         columns,\n\u001b[1;32m   1747\u001b[0m         col_dict,\n\u001b[0;32m-> 1748\u001b[0m     ) \u001b[38;5;241m=\u001b[39m \u001b[38;5;28;43mself\u001b[39;49m\u001b[38;5;241;43m.\u001b[39;49m\u001b[43m_engine\u001b[49m\u001b[38;5;241;43m.\u001b[39;49m\u001b[43mread\u001b[49m\u001b[43m(\u001b[49m\u001b[43m  \u001b[49m\u001b[38;5;66;43;03m# type: ignore[attr-defined]\u001b[39;49;00m\n\u001b[1;32m   1749\u001b[0m \u001b[43m        \u001b[49m\u001b[43mnrows\u001b[49m\n\u001b[1;32m   1750\u001b[0m \u001b[43m    \u001b[49m\u001b[43m)\u001b[49m\n\u001b[1;32m   1751\u001b[0m \u001b[38;5;28;01mexcept\u001b[39;00m \u001b[38;5;167;01mException\u001b[39;00m:\n\u001b[1;32m   1752\u001b[0m     \u001b[38;5;28mself\u001b[39m\u001b[38;5;241m.\u001b[39mclose()\n",
      "File \u001b[0;32m~/miniconda3/envs/myenv/lib/python3.10/site-packages/pandas/io/parsers/c_parser_wrapper.py:234\u001b[0m, in \u001b[0;36mCParserWrapper.read\u001b[0;34m(self, nrows)\u001b[0m\n\u001b[1;32m    232\u001b[0m \u001b[38;5;28;01mtry\u001b[39;00m:\n\u001b[1;32m    233\u001b[0m     \u001b[38;5;28;01mif\u001b[39;00m \u001b[38;5;28mself\u001b[39m\u001b[38;5;241m.\u001b[39mlow_memory:\n\u001b[0;32m--> 234\u001b[0m         chunks \u001b[38;5;241m=\u001b[39m \u001b[38;5;28;43mself\u001b[39;49m\u001b[38;5;241;43m.\u001b[39;49m\u001b[43m_reader\u001b[49m\u001b[38;5;241;43m.\u001b[39;49m\u001b[43mread_low_memory\u001b[49m\u001b[43m(\u001b[49m\u001b[43mnrows\u001b[49m\u001b[43m)\u001b[49m\n\u001b[1;32m    235\u001b[0m         \u001b[38;5;66;03m# destructive to chunks\u001b[39;00m\n\u001b[1;32m    236\u001b[0m         data \u001b[38;5;241m=\u001b[39m _concatenate_chunks(chunks)\n",
      "File \u001b[0;32mparsers.pyx:843\u001b[0m, in \u001b[0;36mpandas._libs.parsers.TextReader.read_low_memory\u001b[0;34m()\u001b[0m\n",
      "File \u001b[0;32mparsers.pyx:904\u001b[0m, in \u001b[0;36mpandas._libs.parsers.TextReader._read_rows\u001b[0;34m()\u001b[0m\n",
      "File \u001b[0;32mparsers.pyx:879\u001b[0m, in \u001b[0;36mpandas._libs.parsers.TextReader._tokenize_rows\u001b[0;34m()\u001b[0m\n",
      "File \u001b[0;32mparsers.pyx:890\u001b[0m, in \u001b[0;36mpandas._libs.parsers.TextReader._check_tokenize_status\u001b[0;34m()\u001b[0m\n",
      "File \u001b[0;32mparsers.pyx:2058\u001b[0m, in \u001b[0;36mpandas._libs.parsers.raise_parser_error\u001b[0;34m()\u001b[0m\n",
      "\u001b[0;31mParserError\u001b[0m: Error tokenizing data. C error: Expected 1 fields in line 107, saw 2\n"
     ]
    }
   ],
   "source": [
    "fpath = './data/processed/wongnai/wongnai_cleaned.csv'\n",
    "# fpath = './data/processed/tscc/tscc_cleaned.csv'\n",
    "\n",
    "with open(fpath, 'r') as f:\n",
    "    for i, line in enumerate(f):\n",
    "        if i > 2: break\n",
    "        print(line)\n",
    "\n",
    "df = pd.read_csv(fpath)\n",
    "df.head()"
   ]
  },
  {
   "cell_type": "code",
   "execution_count": 8,
   "metadata": {},
   "outputs": [
    {
     "name": "stdout",
     "output_type": "stream",
     "text": [
      "774\n",
      "97\n",
      "97\n",
      "31\n",
      "28\n",
      "23\n",
      "[0, 1, 2, 3, 4, 5, 6, 7, 8, 9, 10, 11, 12, 13, 14, 15, 16, 17, 18, 19, 20, 21, 22, 23, 24, 25, 26, 27, 28, 29, 30]\n",
      "[0, 1, 2, 3, 4, 5, 6, 7, 8, 9, 10, 11, 12, 14, 15, 16, 17, 18, 19, 20, 21, 23, 24, 26, 27, 28, 29, 30]\n",
      "[0, 1, 2, 4, 5, 6, 7, 8, 10, 11, 13, 14, 15, 16, 17, 19, 20, 21, 22, 24, 25, 26, 27]\n"
     ]
    }
   ],
   "source": [
    "import pandas as pd\n",
    "\n",
    "train_df = pd.read_csv('./data/processed/tscc/tscc_full/train/train.csv')\n",
    "valid_df = pd.read_csv('./data/processed/tscc/tscc_full/valid/valid.csv')\n",
    "test_df = pd.read_csv('./data/processed/tscc/tscc_full/test/test.csv')\n",
    "\n",
    "train_labels = train_df['label'].value_counts()\n",
    "valid_labels = valid_df['label'].value_counts()\n",
    "test_labels = test_df['label'].value_counts()\n",
    "\n",
    "\n",
    "print(len(train_df))\n",
    "print(len(valid_df))\n",
    "print(len(test_df))\n",
    "\n",
    "\n",
    "print(len(train_labels))\n",
    "print(len(valid_labels))\n",
    "print(len(test_labels))\n",
    "\n",
    "print(sorted(train_labels.keys()))\n",
    "print(sorted(valid_labels.keys()))\n",
    "print(sorted(test_labels.keys()))"
   ]
  },
  {
   "cell_type": "code",
   "execution_count": 9,
   "metadata": {},
   "outputs": [
    {
     "name": "stdout",
     "output_type": "stream",
     "text": [
      "{0, 1, 2, 3, 4, 5, 6, 7, 8, 9, 10, 11, 12, 14, 15, 16, 17, 18, 19, 20, 21, 23, 24, 26, 27, 28, 29, 30}\n"
     ]
    }
   ],
   "source": [
    "labels = list(valid_df['label'].values)\n",
    "unique_labels = set()\n",
    "unique_labels.update(labels)\n",
    "\n",
    "print(unique_labels)"
   ]
  }
 ],
 "metadata": {
  "kernelspec": {
   "display_name": "myenv",
   "language": "python",
   "name": "python3"
  },
  "language_info": {
   "codemirror_mode": {
    "name": "ipython",
    "version": 3
   },
   "file_extension": ".py",
   "mimetype": "text/x-python",
   "name": "python",
   "nbconvert_exporter": "python",
   "pygments_lexer": "ipython3",
   "version": "3.10.12"
  }
 },
 "nbformat": 4,
 "nbformat_minor": 2
}
